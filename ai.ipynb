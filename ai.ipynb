{
 "cells": [
  {
   "cell_type": "code",
   "execution_count": null,
   "id": "2de83677",
   "metadata": {},
   "outputs": [],
   "source": [
    "from collections import Counter\n",
    "from sklearn.model_selection import train_test_split\n",
    "from tensorflow.keras.layers import Conv2D, MaxPooling2D, Flatten, Dense, Dropout\n",
    "from tensorflow.keras.models import Sequential\n",
    "import csv, cv2, matplotlib.pyplot as plt, numpy as np, tensorflow as tf"
   ]
  },
  {
   "cell_type": "code",
   "execution_count": null,
   "id": "3589fdfc",
   "metadata": {},
   "outputs": [],
   "source": [
    "filename = \".\\\\data.csv\"\n",
    "\n",
    "post_ids = []\n",
    "labels = []\n",
    "\n",
    "with open(filename, 'r') as fp:\n",
    "\treader = csv.reader(fp)\n",
    "\n",
    "\theadings = next(reader)\n",
    "\n",
    "\tfor row in reader:\n",
    "\t\tmatch row[2]:\n",
    "\t\t\tcase \"Safe\":\n",
    "\t\t\t\tif np.random.random() < 0.08:\n",
    "\t\t\t\t\tpost_ids.append(row[0])\n",
    "\t\t\t\t\tlabels.append(row[2])\n",
    "\t\t\tcase \"Explicit\":\n",
    "\t\t\t\tpost_ids.append(row[0])\n",
    "\t\t\t\tlabels.append(row[2])"
   ]
  },
  {
   "cell_type": "code",
   "execution_count": null,
   "id": "f087bd80",
   "metadata": {},
   "outputs": [],
   "source": [
    "all_imgs = np.array([cv2.imread(f\"images\\\\{post_id}.jpg\") for post_id in post_ids], dtype=np.float64) / 255\n",
    "d = {\"Safe\": 0, \"Questionable\": 2, \"Explicit\": 1}\n",
    "labels = np.array([d[label] for label in labels])\n",
    "print(Counter(labels))"
   ]
  },
  {
   "cell_type": "code",
   "execution_count": null,
   "id": "4a71c746",
   "metadata": {},
   "outputs": [],
   "source": [
    "print(all_imgs.shape)\n",
    "print(labels.shape)\n",
    "print(all_imgs[:2, :2, :2])"
   ]
  },
  {
   "cell_type": "code",
   "execution_count": null,
   "id": "01d28ee2",
   "metadata": {},
   "outputs": [],
   "source": [
    "training_imgs, test_imgs, training_labels, test_labels = train_test_split(all_imgs, labels, train_size=0.8)"
   ]
  },
  {
   "cell_type": "code",
   "execution_count": null,
   "id": "dc67583b",
   "metadata": {},
   "outputs": [],
   "source": [
    "model = Sequential()\n",
    "model.add(tf.keras.Input(shape=(128, 128, 3)))\n",
    "model.add(MaxPooling2D((2, 2)))\n",
    "model.add(Conv2D(64, (3, 3), activation=\"relu\"))\n",
    "model.add(MaxPooling2D((2, 2)))\n",
    "model.add(Conv2D(128, (3, 3), activation=\"relu\"))\n",
    "model.add(MaxPooling2D((2, 2)))\n",
    "model.add(Flatten())\n",
    "model.add(Dense(512, activation=\"relu\"))\n",
    "model.add(Dropout(0.5))\n",
    "model.add(Dense(3, activation=\"softmax\"))\n",
    "\n",
    "model.compile(optimizer=\"adam\",\n",
    "\t\t\t  loss=\"sparse_categorical_crossentropy\",\n",
    "\t\t\t  metrics=[\"accuracy\"])\n",
    "\n",
    "model.summary()"
   ]
  },
  {
   "cell_type": "code",
   "execution_count": null,
   "id": "d17af93e",
   "metadata": {},
   "outputs": [],
   "source": [
    "epochs = 5\n",
    "batch_size = 32\n",
    "history = model.fit(training_imgs, training_labels, epochs=epochs, batch_size=batch_size,\n",
    "\t\t\t\t\tvalidation_data=(test_imgs, test_labels)).history\n",
    "# history = model.fit(training_imgs, training_labels, epochs=epochs, batch_size=batch_size, verbose=1).history"
   ]
  },
  {
   "cell_type": "code",
   "execution_count": null,
   "id": "b2440217",
   "metadata": {},
   "outputs": [],
   "source": [
    "plt.plot(range(1, epochs + 1), history[\"accuracy\"], label=\"training\")\n",
    "plt.plot(range(1, epochs + 1), history[\"val_accuracy\"], label=\"test\")\n",
    "plt.title(f\"{labels.size} Images\")\n",
    "plt.xlabel(\"epoch\")\n",
    "plt.ylabel(\"accuracy\")\n",
    "plt.xlim((1, epochs))\n",
    "plt.ylim(0, 1)\n",
    "plt.legend()\n",
    "plt.show()"
   ]
  }
 ],
 "metadata": {
  "kernelspec": {
   "display_name": "Python 3 (ipykernel)",
   "language": "python",
   "name": "python3"
  },
  "language_info": {
   "codemirror_mode": {
    "name": "ipython",
    "version": 3
   },
   "file_extension": ".py",
   "mimetype": "text/x-python",
   "name": "python",
   "nbconvert_exporter": "python",
   "pygments_lexer": "ipython3",
   "version": "3.11.0"
  }
 },
 "nbformat": 4,
 "nbformat_minor": 5
}
